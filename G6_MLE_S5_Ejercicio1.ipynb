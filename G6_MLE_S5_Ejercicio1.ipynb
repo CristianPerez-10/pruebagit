{
 "cells": [
  {
   "cell_type": "code",
   "execution_count": null,
   "id": "15b07da4",
   "metadata": {},
   "outputs": [],
   "source": [
    "# 1. Cargar librerías\n",
    "import pandas as pd\n",
    "from pycaret.classification import *\n",
    "\n",
    "# 2. Cargar datos\n",
    "df = pd.read_csv('caso1_churn_clientes.csv')\n",
    "\n",
    "# 3. Configuración del entorno\n",
    "clf = setup(data=df,\n",
    "            target='churn',\n",
    "            session_id=123,\n",
    "            normalize=True,\n",
    "            categorical_features=['tipo_plan'])\n",
    "\n",
    "# 4. Comparación de modelos para explorar\n",
    "best_model = compare_models(sort='AUC')\n",
    "\n",
    "# 5. Crear modelo con mejor balance\n",
    "rf_model = create_model('rf')\n",
    "\n",
    "# 6. Ajustar hiperparámetros\n",
    "tuned_rf = tune_model(rf_model)\n",
    "\n",
    "# 7. Interpretación y visualización\n",
    "plot_model(tuned_rf, plot='confusion_matrix')\n",
    "plot_model(tuned_rf, plot='feature')\n",
    "\n",
    "# 8. Evaluación interactiva\n",
    "evaluate_model(tuned_rf)\n",
    "\n",
    "# 9. Predicciones\n",
    "predicciones = predict_model(tuned_rf)\n",
    "\n",
    "# 10. Guardar modelo final para uso futuro\n",
    "save_model(tuned_rf, 'modelo_churn_final')\n"
   ]
  }
 ],
 "metadata": {
  "language_info": {
   "name": "python"
  }
 },
 "nbformat": 4,
 "nbformat_minor": 5
}
