{
 "cells": [
  {
   "cell_type": "code",
   "execution_count": 1,
   "id": "e8ba16ea",
   "metadata": {},
   "outputs": [],
   "source": [
    "import pandas as pd\n",
    "from pycaret.regression import *"
   ]
  },
  {
   "cell_type": "code",
   "execution_count": 2,
   "id": "cafb8bcd",
   "metadata": {},
   "outputs": [],
   "source": [
    "#1. Cargamos la data:\n",
    "df = pd.read_csv('ds_credito_vehicular.csv')"
   ]
  },
  {
   "cell_type": "code",
   "execution_count": 3,
   "id": "ebb3159e",
   "metadata": {},
   "outputs": [
    {
     "data": {
      "text/html": [
       "<div>\n",
       "<style scoped>\n",
       "    .dataframe tbody tr th:only-of-type {\n",
       "        vertical-align: middle;\n",
       "    }\n",
       "\n",
       "    .dataframe tbody tr th {\n",
       "        vertical-align: top;\n",
       "    }\n",
       "\n",
       "    .dataframe thead th {\n",
       "        text-align: right;\n",
       "    }\n",
       "</style>\n",
       "<table border=\"1\" class=\"dataframe\">\n",
       "  <thead>\n",
       "    <tr style=\"text-align: right;\">\n",
       "      <th></th>\n",
       "      <th>edad</th>\n",
       "      <th>ingresos_mensuales</th>\n",
       "      <th>estado_civil</th>\n",
       "      <th>historia_credito</th>\n",
       "      <th>nro_creditos_previos</th>\n",
       "      <th>cuota_vs_ingreso</th>\n",
       "      <th>vehiculo_propio</th>\n",
       "      <th>default</th>\n",
       "    </tr>\n",
       "  </thead>\n",
       "  <tbody>\n",
       "    <tr>\n",
       "      <th>0</th>\n",
       "      <td>59</td>\n",
       "      <td>7668</td>\n",
       "      <td>Divorciado</td>\n",
       "      <td>Buena</td>\n",
       "      <td>2</td>\n",
       "      <td>0.64</td>\n",
       "      <td>0</td>\n",
       "      <td>1</td>\n",
       "    </tr>\n",
       "    <tr>\n",
       "      <th>1</th>\n",
       "      <td>49</td>\n",
       "      <td>6279</td>\n",
       "      <td>Casado</td>\n",
       "      <td>Buena</td>\n",
       "      <td>2</td>\n",
       "      <td>0.31</td>\n",
       "      <td>1</td>\n",
       "      <td>1</td>\n",
       "    </tr>\n",
       "    <tr>\n",
       "      <th>2</th>\n",
       "      <td>35</td>\n",
       "      <td>2722</td>\n",
       "      <td>Soltero</td>\n",
       "      <td>Mala</td>\n",
       "      <td>4</td>\n",
       "      <td>0.41</td>\n",
       "      <td>1</td>\n",
       "      <td>0</td>\n",
       "    </tr>\n",
       "    <tr>\n",
       "      <th>3</th>\n",
       "      <td>63</td>\n",
       "      <td>4314</td>\n",
       "      <td>Divorciado</td>\n",
       "      <td>Regular</td>\n",
       "      <td>4</td>\n",
       "      <td>0.57</td>\n",
       "      <td>0</td>\n",
       "      <td>0</td>\n",
       "    </tr>\n",
       "    <tr>\n",
       "      <th>4</th>\n",
       "      <td>28</td>\n",
       "      <td>4157</td>\n",
       "      <td>Soltero</td>\n",
       "      <td>Buena</td>\n",
       "      <td>1</td>\n",
       "      <td>0.34</td>\n",
       "      <td>0</td>\n",
       "      <td>0</td>\n",
       "    </tr>\n",
       "  </tbody>\n",
       "</table>\n",
       "</div>"
      ],
      "text/plain": [
       "   edad  ingresos_mensuales estado_civil historia_credito  \\\n",
       "0    59                7668   Divorciado            Buena   \n",
       "1    49                6279       Casado            Buena   \n",
       "2    35                2722      Soltero             Mala   \n",
       "3    63                4314   Divorciado          Regular   \n",
       "4    28                4157      Soltero            Buena   \n",
       "\n",
       "   nro_creditos_previos  cuota_vs_ingreso  vehiculo_propio  default  \n",
       "0                     2              0.64                0        1  \n",
       "1                     2              0.31                1        1  \n",
       "2                     4              0.41                1        0  \n",
       "3                     4              0.57                0        0  \n",
       "4                     1              0.34                0        0  "
      ]
     },
     "execution_count": 3,
     "metadata": {},
     "output_type": "execute_result"
    }
   ],
   "source": [
    "df.head()"
   ]
  },
  {
   "cell_type": "code",
   "execution_count": 4,
   "id": "4b1a31fa",
   "metadata": {},
   "outputs": [
    {
     "name": "stdout",
     "output_type": "stream",
     "text": [
      "['Buena' 'Mala' 'Regular']\n"
     ]
    }
   ],
   "source": [
    "valores_unicos = df['historia_credito'].unique()\n",
    "\n",
    "print(valores_unicos)"
   ]
  },
  {
   "cell_type": "code",
   "execution_count": 5,
   "id": "99acbdb6",
   "metadata": {},
   "outputs": [],
   "source": [
    "df['historia_credito'] = df['historia_credito'].replace({\n",
    "    'Buena': 3,\n",
    "    'Mala': 1,\n",
    "    'Regular': 2\n",
    "})"
   ]
  },
  {
   "cell_type": "code",
   "execution_count": 6,
   "id": "061d1ee9",
   "metadata": {},
   "outputs": [
    {
     "data": {
      "text/html": [
       "<div>\n",
       "<style scoped>\n",
       "    .dataframe tbody tr th:only-of-type {\n",
       "        vertical-align: middle;\n",
       "    }\n",
       "\n",
       "    .dataframe tbody tr th {\n",
       "        vertical-align: top;\n",
       "    }\n",
       "\n",
       "    .dataframe thead th {\n",
       "        text-align: right;\n",
       "    }\n",
       "</style>\n",
       "<table border=\"1\" class=\"dataframe\">\n",
       "  <thead>\n",
       "    <tr style=\"text-align: right;\">\n",
       "      <th></th>\n",
       "      <th>edad</th>\n",
       "      <th>ingresos_mensuales</th>\n",
       "      <th>estado_civil</th>\n",
       "      <th>historia_credito</th>\n",
       "      <th>nro_creditos_previos</th>\n",
       "      <th>cuota_vs_ingreso</th>\n",
       "      <th>vehiculo_propio</th>\n",
       "      <th>default</th>\n",
       "    </tr>\n",
       "  </thead>\n",
       "  <tbody>\n",
       "    <tr>\n",
       "      <th>0</th>\n",
       "      <td>59</td>\n",
       "      <td>7668</td>\n",
       "      <td>Divorciado</td>\n",
       "      <td>3</td>\n",
       "      <td>2</td>\n",
       "      <td>0.64</td>\n",
       "      <td>0</td>\n",
       "      <td>1</td>\n",
       "    </tr>\n",
       "    <tr>\n",
       "      <th>1</th>\n",
       "      <td>49</td>\n",
       "      <td>6279</td>\n",
       "      <td>Casado</td>\n",
       "      <td>3</td>\n",
       "      <td>2</td>\n",
       "      <td>0.31</td>\n",
       "      <td>1</td>\n",
       "      <td>1</td>\n",
       "    </tr>\n",
       "    <tr>\n",
       "      <th>2</th>\n",
       "      <td>35</td>\n",
       "      <td>2722</td>\n",
       "      <td>Soltero</td>\n",
       "      <td>1</td>\n",
       "      <td>4</td>\n",
       "      <td>0.41</td>\n",
       "      <td>1</td>\n",
       "      <td>0</td>\n",
       "    </tr>\n",
       "    <tr>\n",
       "      <th>3</th>\n",
       "      <td>63</td>\n",
       "      <td>4314</td>\n",
       "      <td>Divorciado</td>\n",
       "      <td>2</td>\n",
       "      <td>4</td>\n",
       "      <td>0.57</td>\n",
       "      <td>0</td>\n",
       "      <td>0</td>\n",
       "    </tr>\n",
       "    <tr>\n",
       "      <th>4</th>\n",
       "      <td>28</td>\n",
       "      <td>4157</td>\n",
       "      <td>Soltero</td>\n",
       "      <td>3</td>\n",
       "      <td>1</td>\n",
       "      <td>0.34</td>\n",
       "      <td>0</td>\n",
       "      <td>0</td>\n",
       "    </tr>\n",
       "  </tbody>\n",
       "</table>\n",
       "</div>"
      ],
      "text/plain": [
       "   edad  ingresos_mensuales estado_civil  historia_credito  \\\n",
       "0    59                7668   Divorciado                 3   \n",
       "1    49                6279       Casado                 3   \n",
       "2    35                2722      Soltero                 1   \n",
       "3    63                4314   Divorciado                 2   \n",
       "4    28                4157      Soltero                 3   \n",
       "\n",
       "   nro_creditos_previos  cuota_vs_ingreso  vehiculo_propio  default  \n",
       "0                     2              0.64                0        1  \n",
       "1                     2              0.31                1        1  \n",
       "2                     4              0.41                1        0  \n",
       "3                     4              0.57                0        0  \n",
       "4                     1              0.34                0        0  "
      ]
     },
     "execution_count": 6,
     "metadata": {},
     "output_type": "execute_result"
    }
   ],
   "source": [
    "df.head()"
   ]
  },
  {
   "cell_type": "code",
   "execution_count": 19,
   "id": "a1d9d02a",
   "metadata": {},
   "outputs": [
    {
     "data": {
      "text/html": [
       "<style type=\"text/css\">\n",
       "#T_5acc7_row9_col1, #T_5acc7_row15_col1 {\n",
       "  background-color: lightgreen;\n",
       "}\n",
       "</style>\n",
       "<table id=\"T_5acc7\">\n",
       "  <thead>\n",
       "    <tr>\n",
       "      <th class=\"blank level0\" >&nbsp;</th>\n",
       "      <th id=\"T_5acc7_level0_col0\" class=\"col_heading level0 col0\" >Description</th>\n",
       "      <th id=\"T_5acc7_level0_col1\" class=\"col_heading level0 col1\" >Value</th>\n",
       "    </tr>\n",
       "  </thead>\n",
       "  <tbody>\n",
       "    <tr>\n",
       "      <th id=\"T_5acc7_level0_row0\" class=\"row_heading level0 row0\" >0</th>\n",
       "      <td id=\"T_5acc7_row0_col0\" class=\"data row0 col0\" >Session id</td>\n",
       "      <td id=\"T_5acc7_row0_col1\" class=\"data row0 col1\" >123</td>\n",
       "    </tr>\n",
       "    <tr>\n",
       "      <th id=\"T_5acc7_level0_row1\" class=\"row_heading level0 row1\" >1</th>\n",
       "      <td id=\"T_5acc7_row1_col0\" class=\"data row1 col0\" >Target</td>\n",
       "      <td id=\"T_5acc7_row1_col1\" class=\"data row1 col1\" >default</td>\n",
       "    </tr>\n",
       "    <tr>\n",
       "      <th id=\"T_5acc7_level0_row2\" class=\"row_heading level0 row2\" >2</th>\n",
       "      <td id=\"T_5acc7_row2_col0\" class=\"data row2 col0\" >Target type</td>\n",
       "      <td id=\"T_5acc7_row2_col1\" class=\"data row2 col1\" >Regression</td>\n",
       "    </tr>\n",
       "    <tr>\n",
       "      <th id=\"T_5acc7_level0_row3\" class=\"row_heading level0 row3\" >3</th>\n",
       "      <td id=\"T_5acc7_row3_col0\" class=\"data row3 col0\" >Original data shape</td>\n",
       "      <td id=\"T_5acc7_row3_col1\" class=\"data row3 col1\" >(150, 8)</td>\n",
       "    </tr>\n",
       "    <tr>\n",
       "      <th id=\"T_5acc7_level0_row4\" class=\"row_heading level0 row4\" >4</th>\n",
       "      <td id=\"T_5acc7_row4_col0\" class=\"data row4 col0\" >Transformed data shape</td>\n",
       "      <td id=\"T_5acc7_row4_col1\" class=\"data row4 col1\" >(150, 10)</td>\n",
       "    </tr>\n",
       "    <tr>\n",
       "      <th id=\"T_5acc7_level0_row5\" class=\"row_heading level0 row5\" >5</th>\n",
       "      <td id=\"T_5acc7_row5_col0\" class=\"data row5 col0\" >Transformed train set shape</td>\n",
       "      <td id=\"T_5acc7_row5_col1\" class=\"data row5 col1\" >(105, 10)</td>\n",
       "    </tr>\n",
       "    <tr>\n",
       "      <th id=\"T_5acc7_level0_row6\" class=\"row_heading level0 row6\" >6</th>\n",
       "      <td id=\"T_5acc7_row6_col0\" class=\"data row6 col0\" >Transformed test set shape</td>\n",
       "      <td id=\"T_5acc7_row6_col1\" class=\"data row6 col1\" >(45, 10)</td>\n",
       "    </tr>\n",
       "    <tr>\n",
       "      <th id=\"T_5acc7_level0_row7\" class=\"row_heading level0 row7\" >7</th>\n",
       "      <td id=\"T_5acc7_row7_col0\" class=\"data row7 col0\" >Numeric features</td>\n",
       "      <td id=\"T_5acc7_row7_col1\" class=\"data row7 col1\" >6</td>\n",
       "    </tr>\n",
       "    <tr>\n",
       "      <th id=\"T_5acc7_level0_row8\" class=\"row_heading level0 row8\" >8</th>\n",
       "      <td id=\"T_5acc7_row8_col0\" class=\"data row8 col0\" >Categorical features</td>\n",
       "      <td id=\"T_5acc7_row8_col1\" class=\"data row8 col1\" >1</td>\n",
       "    </tr>\n",
       "    <tr>\n",
       "      <th id=\"T_5acc7_level0_row9\" class=\"row_heading level0 row9\" >9</th>\n",
       "      <td id=\"T_5acc7_row9_col0\" class=\"data row9 col0\" >Preprocess</td>\n",
       "      <td id=\"T_5acc7_row9_col1\" class=\"data row9 col1\" >True</td>\n",
       "    </tr>\n",
       "    <tr>\n",
       "      <th id=\"T_5acc7_level0_row10\" class=\"row_heading level0 row10\" >10</th>\n",
       "      <td id=\"T_5acc7_row10_col0\" class=\"data row10 col0\" >Imputation type</td>\n",
       "      <td id=\"T_5acc7_row10_col1\" class=\"data row10 col1\" >simple</td>\n",
       "    </tr>\n",
       "    <tr>\n",
       "      <th id=\"T_5acc7_level0_row11\" class=\"row_heading level0 row11\" >11</th>\n",
       "      <td id=\"T_5acc7_row11_col0\" class=\"data row11 col0\" >Numeric imputation</td>\n",
       "      <td id=\"T_5acc7_row11_col1\" class=\"data row11 col1\" >mean</td>\n",
       "    </tr>\n",
       "    <tr>\n",
       "      <th id=\"T_5acc7_level0_row12\" class=\"row_heading level0 row12\" >12</th>\n",
       "      <td id=\"T_5acc7_row12_col0\" class=\"data row12 col0\" >Categorical imputation</td>\n",
       "      <td id=\"T_5acc7_row12_col1\" class=\"data row12 col1\" >mode</td>\n",
       "    </tr>\n",
       "    <tr>\n",
       "      <th id=\"T_5acc7_level0_row13\" class=\"row_heading level0 row13\" >13</th>\n",
       "      <td id=\"T_5acc7_row13_col0\" class=\"data row13 col0\" >Maximum one-hot encoding</td>\n",
       "      <td id=\"T_5acc7_row13_col1\" class=\"data row13 col1\" >25</td>\n",
       "    </tr>\n",
       "    <tr>\n",
       "      <th id=\"T_5acc7_level0_row14\" class=\"row_heading level0 row14\" >14</th>\n",
       "      <td id=\"T_5acc7_row14_col0\" class=\"data row14 col0\" >Encoding method</td>\n",
       "      <td id=\"T_5acc7_row14_col1\" class=\"data row14 col1\" >None</td>\n",
       "    </tr>\n",
       "    <tr>\n",
       "      <th id=\"T_5acc7_level0_row15\" class=\"row_heading level0 row15\" >15</th>\n",
       "      <td id=\"T_5acc7_row15_col0\" class=\"data row15 col0\" >Normalize</td>\n",
       "      <td id=\"T_5acc7_row15_col1\" class=\"data row15 col1\" >True</td>\n",
       "    </tr>\n",
       "    <tr>\n",
       "      <th id=\"T_5acc7_level0_row16\" class=\"row_heading level0 row16\" >16</th>\n",
       "      <td id=\"T_5acc7_row16_col0\" class=\"data row16 col0\" >Normalize method</td>\n",
       "      <td id=\"T_5acc7_row16_col1\" class=\"data row16 col1\" >zscore</td>\n",
       "    </tr>\n",
       "    <tr>\n",
       "      <th id=\"T_5acc7_level0_row17\" class=\"row_heading level0 row17\" >17</th>\n",
       "      <td id=\"T_5acc7_row17_col0\" class=\"data row17 col0\" >Fold Generator</td>\n",
       "      <td id=\"T_5acc7_row17_col1\" class=\"data row17 col1\" >KFold</td>\n",
       "    </tr>\n",
       "    <tr>\n",
       "      <th id=\"T_5acc7_level0_row18\" class=\"row_heading level0 row18\" >18</th>\n",
       "      <td id=\"T_5acc7_row18_col0\" class=\"data row18 col0\" >Fold Number</td>\n",
       "      <td id=\"T_5acc7_row18_col1\" class=\"data row18 col1\" >10</td>\n",
       "    </tr>\n",
       "    <tr>\n",
       "      <th id=\"T_5acc7_level0_row19\" class=\"row_heading level0 row19\" >19</th>\n",
       "      <td id=\"T_5acc7_row19_col0\" class=\"data row19 col0\" >CPU Jobs</td>\n",
       "      <td id=\"T_5acc7_row19_col1\" class=\"data row19 col1\" >-1</td>\n",
       "    </tr>\n",
       "    <tr>\n",
       "      <th id=\"T_5acc7_level0_row20\" class=\"row_heading level0 row20\" >20</th>\n",
       "      <td id=\"T_5acc7_row20_col0\" class=\"data row20 col0\" >Use GPU</td>\n",
       "      <td id=\"T_5acc7_row20_col1\" class=\"data row20 col1\" >False</td>\n",
       "    </tr>\n",
       "    <tr>\n",
       "      <th id=\"T_5acc7_level0_row21\" class=\"row_heading level0 row21\" >21</th>\n",
       "      <td id=\"T_5acc7_row21_col0\" class=\"data row21 col0\" >Log Experiment</td>\n",
       "      <td id=\"T_5acc7_row21_col1\" class=\"data row21 col1\" >False</td>\n",
       "    </tr>\n",
       "    <tr>\n",
       "      <th id=\"T_5acc7_level0_row22\" class=\"row_heading level0 row22\" >22</th>\n",
       "      <td id=\"T_5acc7_row22_col0\" class=\"data row22 col0\" >Experiment Name</td>\n",
       "      <td id=\"T_5acc7_row22_col1\" class=\"data row22 col1\" >reg-default-name</td>\n",
       "    </tr>\n",
       "    <tr>\n",
       "      <th id=\"T_5acc7_level0_row23\" class=\"row_heading level0 row23\" >23</th>\n",
       "      <td id=\"T_5acc7_row23_col0\" class=\"data row23 col0\" >USI</td>\n",
       "      <td id=\"T_5acc7_row23_col1\" class=\"data row23 col1\" >3c1e</td>\n",
       "    </tr>\n",
       "  </tbody>\n",
       "</table>\n"
      ],
      "text/plain": [
       "<pandas.io.formats.style.Styler at 0x20f70a9c8d0>"
      ]
     },
     "metadata": {},
     "output_type": "display_data"
    }
   ],
   "source": [
    "#Inicializar el experimiento\n",
    "reg  = setup(data=df,target='default',session_id=123,normalize=True,categorical_features=['estado_civil'])"
   ]
  },
  {
   "cell_type": "code",
   "execution_count": 21,
   "id": "95ed6c10",
   "metadata": {},
   "outputs": [
    {
     "data": {
      "text/html": [],
      "text/plain": [
       "<IPython.core.display.HTML object>"
      ]
     },
     "metadata": {},
     "output_type": "display_data"
    },
    {
     "data": {
      "text/html": [],
      "text/plain": [
       "<IPython.core.display.HTML object>"
      ]
     },
     "metadata": {},
     "output_type": "display_data"
    },
    {
     "data": {
      "text/html": [],
      "text/plain": [
       "<IPython.core.display.HTML object>"
      ]
     },
     "metadata": {},
     "output_type": "display_data"
    }
   ],
   "source": [
    "#3. Comparar modelos automaticamente:\n",
    "best_model = compare_models()"
   ]
  },
  {
   "cell_type": "code",
   "execution_count": 14,
   "id": "1c679114",
   "metadata": {},
   "outputs": [
    {
     "data": {
      "text/html": [],
      "text/plain": [
       "<IPython.core.display.HTML object>"
      ]
     },
     "metadata": {},
     "output_type": "display_data"
    },
    {
     "data": {
      "text/html": [
       "<style type=\"text/css\">\n",
       "#T_a78ae_row10_col0, #T_a78ae_row10_col1, #T_a78ae_row10_col2, #T_a78ae_row10_col3, #T_a78ae_row10_col4, #T_a78ae_row10_col5 {\n",
       "  background: yellow;\n",
       "}\n",
       "</style>\n",
       "<table id=\"T_a78ae\">\n",
       "  <thead>\n",
       "    <tr>\n",
       "      <th class=\"blank level0\" >&nbsp;</th>\n",
       "      <th id=\"T_a78ae_level0_col0\" class=\"col_heading level0 col0\" >MAE</th>\n",
       "      <th id=\"T_a78ae_level0_col1\" class=\"col_heading level0 col1\" >MSE</th>\n",
       "      <th id=\"T_a78ae_level0_col2\" class=\"col_heading level0 col2\" >RMSE</th>\n",
       "      <th id=\"T_a78ae_level0_col3\" class=\"col_heading level0 col3\" >R2</th>\n",
       "      <th id=\"T_a78ae_level0_col4\" class=\"col_heading level0 col4\" >RMSLE</th>\n",
       "      <th id=\"T_a78ae_level0_col5\" class=\"col_heading level0 col5\" >MAPE</th>\n",
       "    </tr>\n",
       "    <tr>\n",
       "      <th class=\"index_name level0\" >Fold</th>\n",
       "      <th class=\"blank col0\" >&nbsp;</th>\n",
       "      <th class=\"blank col1\" >&nbsp;</th>\n",
       "      <th class=\"blank col2\" >&nbsp;</th>\n",
       "      <th class=\"blank col3\" >&nbsp;</th>\n",
       "      <th class=\"blank col4\" >&nbsp;</th>\n",
       "      <th class=\"blank col5\" >&nbsp;</th>\n",
       "    </tr>\n",
       "  </thead>\n",
       "  <tbody>\n",
       "    <tr>\n",
       "      <th id=\"T_a78ae_level0_row0\" class=\"row_heading level0 row0\" >0</th>\n",
       "      <td id=\"T_a78ae_row0_col0\" class=\"data row0 col0\" >0.1818</td>\n",
       "      <td id=\"T_a78ae_row0_col1\" class=\"data row0 col1\" >0.1818</td>\n",
       "      <td id=\"T_a78ae_row0_col2\" class=\"data row0 col2\" >0.4264</td>\n",
       "      <td id=\"T_a78ae_row0_col3\" class=\"data row0 col3\" >-0.2222</td>\n",
       "      <td id=\"T_a78ae_row0_col4\" class=\"data row0 col4\" >0.2956</td>\n",
       "      <td id=\"T_a78ae_row0_col5\" class=\"data row0 col5\" >1.0000</td>\n",
       "    </tr>\n",
       "    <tr>\n",
       "      <th id=\"T_a78ae_level0_row1\" class=\"row_heading level0 row1\" >1</th>\n",
       "      <td id=\"T_a78ae_row1_col0\" class=\"data row1 col0\" >0.1818</td>\n",
       "      <td id=\"T_a78ae_row1_col1\" class=\"data row1 col1\" >0.1818</td>\n",
       "      <td id=\"T_a78ae_row1_col2\" class=\"data row1 col2\" >0.4264</td>\n",
       "      <td id=\"T_a78ae_row1_col3\" class=\"data row1 col3\" >-0.2222</td>\n",
       "      <td id=\"T_a78ae_row1_col4\" class=\"data row1 col4\" >0.2956</td>\n",
       "      <td id=\"T_a78ae_row1_col5\" class=\"data row1 col5\" >1.0000</td>\n",
       "    </tr>\n",
       "    <tr>\n",
       "      <th id=\"T_a78ae_level0_row2\" class=\"row_heading level0 row2\" >2</th>\n",
       "      <td id=\"T_a78ae_row2_col0\" class=\"data row2 col0\" >0.0909</td>\n",
       "      <td id=\"T_a78ae_row2_col1\" class=\"data row2 col1\" >0.0909</td>\n",
       "      <td id=\"T_a78ae_row2_col2\" class=\"data row2 col2\" >0.3015</td>\n",
       "      <td id=\"T_a78ae_row2_col3\" class=\"data row2 col3\" >-0.1000</td>\n",
       "      <td id=\"T_a78ae_row2_col4\" class=\"data row2 col4\" >0.2091</td>\n",
       "      <td id=\"T_a78ae_row2_col5\" class=\"data row2 col5\" >1.0000</td>\n",
       "    </tr>\n",
       "    <tr>\n",
       "      <th id=\"T_a78ae_level0_row3\" class=\"row_heading level0 row3\" >3</th>\n",
       "      <td id=\"T_a78ae_row3_col0\" class=\"data row3 col0\" >0.2727</td>\n",
       "      <td id=\"T_a78ae_row3_col1\" class=\"data row3 col1\" >0.2727</td>\n",
       "      <td id=\"T_a78ae_row3_col2\" class=\"data row3 col2\" >0.5222</td>\n",
       "      <td id=\"T_a78ae_row3_col3\" class=\"data row3 col3\" >-0.3750</td>\n",
       "      <td id=\"T_a78ae_row3_col4\" class=\"data row3 col4\" >0.3621</td>\n",
       "      <td id=\"T_a78ae_row3_col5\" class=\"data row3 col5\" >1.0000</td>\n",
       "    </tr>\n",
       "    <tr>\n",
       "      <th id=\"T_a78ae_level0_row4\" class=\"row_heading level0 row4\" >4</th>\n",
       "      <td id=\"T_a78ae_row4_col0\" class=\"data row4 col0\" >0.0909</td>\n",
       "      <td id=\"T_a78ae_row4_col1\" class=\"data row4 col1\" >0.0909</td>\n",
       "      <td id=\"T_a78ae_row4_col2\" class=\"data row4 col2\" >0.3015</td>\n",
       "      <td id=\"T_a78ae_row4_col3\" class=\"data row4 col3\" >-0.1000</td>\n",
       "      <td id=\"T_a78ae_row4_col4\" class=\"data row4 col4\" >0.2091</td>\n",
       "      <td id=\"T_a78ae_row4_col5\" class=\"data row4 col5\" >1.0000</td>\n",
       "    </tr>\n",
       "    <tr>\n",
       "      <th id=\"T_a78ae_level0_row5\" class=\"row_heading level0 row5\" >5</th>\n",
       "      <td id=\"T_a78ae_row5_col0\" class=\"data row5 col0\" >0.2012</td>\n",
       "      <td id=\"T_a78ae_row5_col1\" class=\"data row5 col1\" >0.1995</td>\n",
       "      <td id=\"T_a78ae_row5_col2\" class=\"data row5 col2\" >0.4467</td>\n",
       "      <td id=\"T_a78ae_row5_col3\" class=\"data row5 col3\" >-0.2470</td>\n",
       "      <td id=\"T_a78ae_row5_col4\" class=\"data row5 col4\" >0.3095</td>\n",
       "      <td id=\"T_a78ae_row5_col5\" class=\"data row5 col5\" >0.9988</td>\n",
       "    </tr>\n",
       "    <tr>\n",
       "      <th id=\"T_a78ae_level0_row6\" class=\"row_heading level0 row6\" >6</th>\n",
       "      <td id=\"T_a78ae_row6_col0\" class=\"data row6 col0\" >0.2000</td>\n",
       "      <td id=\"T_a78ae_row6_col1\" class=\"data row6 col1\" >0.2000</td>\n",
       "      <td id=\"T_a78ae_row6_col2\" class=\"data row6 col2\" >0.4472</td>\n",
       "      <td id=\"T_a78ae_row6_col3\" class=\"data row6 col3\" >-0.2500</td>\n",
       "      <td id=\"T_a78ae_row6_col4\" class=\"data row6 col4\" >0.3101</td>\n",
       "      <td id=\"T_a78ae_row6_col5\" class=\"data row6 col5\" >1.0000</td>\n",
       "    </tr>\n",
       "    <tr>\n",
       "      <th id=\"T_a78ae_level0_row7\" class=\"row_heading level0 row7\" >7</th>\n",
       "      <td id=\"T_a78ae_row7_col0\" class=\"data row7 col0\" >0.3000</td>\n",
       "      <td id=\"T_a78ae_row7_col1\" class=\"data row7 col1\" >0.3000</td>\n",
       "      <td id=\"T_a78ae_row7_col2\" class=\"data row7 col2\" >0.5477</td>\n",
       "      <td id=\"T_a78ae_row7_col3\" class=\"data row7 col3\" >-0.4286</td>\n",
       "      <td id=\"T_a78ae_row7_col4\" class=\"data row7 col4\" >0.3798</td>\n",
       "      <td id=\"T_a78ae_row7_col5\" class=\"data row7 col5\" >1.0000</td>\n",
       "    </tr>\n",
       "    <tr>\n",
       "      <th id=\"T_a78ae_level0_row8\" class=\"row_heading level0 row8\" >8</th>\n",
       "      <td id=\"T_a78ae_row8_col0\" class=\"data row8 col0\" >0.1000</td>\n",
       "      <td id=\"T_a78ae_row8_col1\" class=\"data row8 col1\" >0.1000</td>\n",
       "      <td id=\"T_a78ae_row8_col2\" class=\"data row8 col2\" >0.3162</td>\n",
       "      <td id=\"T_a78ae_row8_col3\" class=\"data row8 col3\" >-0.1111</td>\n",
       "      <td id=\"T_a78ae_row8_col4\" class=\"data row8 col4\" >0.2193</td>\n",
       "      <td id=\"T_a78ae_row8_col5\" class=\"data row8 col5\" >1.0000</td>\n",
       "    </tr>\n",
       "    <tr>\n",
       "      <th id=\"T_a78ae_level0_row9\" class=\"row_heading level0 row9\" >9</th>\n",
       "      <td id=\"T_a78ae_row9_col0\" class=\"data row9 col0\" >0.0000</td>\n",
       "      <td id=\"T_a78ae_row9_col1\" class=\"data row9 col1\" >0.0000</td>\n",
       "      <td id=\"T_a78ae_row9_col2\" class=\"data row9 col2\" >0.0000</td>\n",
       "      <td id=\"T_a78ae_row9_col3\" class=\"data row9 col3\" >0.0000</td>\n",
       "      <td id=\"T_a78ae_row9_col4\" class=\"data row9 col4\" >0.0000</td>\n",
       "      <td id=\"T_a78ae_row9_col5\" class=\"data row9 col5\" >nan</td>\n",
       "    </tr>\n",
       "    <tr>\n",
       "      <th id=\"T_a78ae_level0_row10\" class=\"row_heading level0 row10\" >Mean</th>\n",
       "      <td id=\"T_a78ae_row10_col0\" class=\"data row10 col0\" >0.1619</td>\n",
       "      <td id=\"T_a78ae_row10_col1\" class=\"data row10 col1\" >0.1618</td>\n",
       "      <td id=\"T_a78ae_row10_col2\" class=\"data row10 col2\" >0.3736</td>\n",
       "      <td id=\"T_a78ae_row10_col3\" class=\"data row10 col3\" >-0.2056</td>\n",
       "      <td id=\"T_a78ae_row10_col4\" class=\"data row10 col4\" >0.2590</td>\n",
       "      <td id=\"T_a78ae_row10_col5\" class=\"data row10 col5\" >nan</td>\n",
       "    </tr>\n",
       "    <tr>\n",
       "      <th id=\"T_a78ae_level0_row11\" class=\"row_heading level0 row11\" >Std</th>\n",
       "      <td id=\"T_a78ae_row11_col0\" class=\"data row11 col0\" >0.0868</td>\n",
       "      <td id=\"T_a78ae_row11_col1\" class=\"data row11 col1\" >0.0867</td>\n",
       "      <td id=\"T_a78ae_row11_col2\" class=\"data row11 col2\" >0.1490</td>\n",
       "      <td id=\"T_a78ae_row11_col3\" class=\"data row11 col3\" >0.1250</td>\n",
       "      <td id=\"T_a78ae_row11_col4\" class=\"data row11 col4\" >0.1033</td>\n",
       "      <td id=\"T_a78ae_row11_col5\" class=\"data row11 col5\" >nan</td>\n",
       "    </tr>\n",
       "  </tbody>\n",
       "</table>\n"
      ],
      "text/plain": [
       "<pandas.io.formats.style.Styler at 0x20f7102f310>"
      ]
     },
     "metadata": {},
     "output_type": "display_data"
    },
    {
     "data": {
      "text/html": [],
      "text/plain": [
       "<IPython.core.display.HTML object>"
      ]
     },
     "metadata": {},
     "output_type": "display_data"
    }
   ],
   "source": [
    "huber = create_model('huber')"
   ]
  },
  {
   "cell_type": "code",
   "execution_count": 16,
   "id": "7554f277",
   "metadata": {},
   "outputs": [
    {
     "data": {
      "text/html": [],
      "text/plain": [
       "<IPython.core.display.HTML object>"
      ]
     },
     "metadata": {},
     "output_type": "display_data"
    },
    {
     "data": {
      "text/html": [],
      "text/plain": [
       "<IPython.core.display.HTML object>"
      ]
     },
     "metadata": {},
     "output_type": "display_data"
    },
    {
     "data": {
      "text/html": [],
      "text/plain": [
       "<IPython.core.display.HTML object>"
      ]
     },
     "metadata": {},
     "output_type": "display_data"
    },
    {
     "name": "stdout",
     "output_type": "stream",
     "text": [
      "Fitting 10 folds for each of 10 candidates, totalling 100 fits\n",
      "Original model was better than the tuned model, hence it will be returned. NOTE: The display metrics are for the tuned model (not the original one).\n"
     ]
    }
   ],
   "source": [
    "#5.Ajustar el modelo\n",
    "tuned_huber = tune_model(huber)"
   ]
  },
  {
   "cell_type": "code",
   "execution_count": 17,
   "id": "0eb81449",
   "metadata": {},
   "outputs": [
    {
     "data": {
      "application/vnd.jupyter.widget-view+json": {
       "model_id": "ec23e875548c432da7d5024f9b659631",
       "version_major": 2,
       "version_minor": 0
      },
      "text/plain": [
       "interactive(children=(ToggleButtons(description='Plot Type:', icons=('',), options=(('Pipeline Plot', 'pipelin…"
      ]
     },
     "metadata": {},
     "output_type": "display_data"
    }
   ],
   "source": [
    "#6. Evaluar visualmente\n",
    "evaluate_model(tuned_huber)"
   ]
  },
  {
   "cell_type": "code",
   "execution_count": 18,
   "id": "b3c12e42",
   "metadata": {},
   "outputs": [
    {
     "data": {
      "text/html": [
       "<style type=\"text/css\">\n",
       "</style>\n",
       "<table id=\"T_a92ab\">\n",
       "  <thead>\n",
       "    <tr>\n",
       "      <th class=\"blank level0\" >&nbsp;</th>\n",
       "      <th id=\"T_a92ab_level0_col0\" class=\"col_heading level0 col0\" >Model</th>\n",
       "      <th id=\"T_a92ab_level0_col1\" class=\"col_heading level0 col1\" >MAE</th>\n",
       "      <th id=\"T_a92ab_level0_col2\" class=\"col_heading level0 col2\" >MSE</th>\n",
       "      <th id=\"T_a92ab_level0_col3\" class=\"col_heading level0 col3\" >RMSE</th>\n",
       "      <th id=\"T_a92ab_level0_col4\" class=\"col_heading level0 col4\" >R2</th>\n",
       "      <th id=\"T_a92ab_level0_col5\" class=\"col_heading level0 col5\" >RMSLE</th>\n",
       "      <th id=\"T_a92ab_level0_col6\" class=\"col_heading level0 col6\" >MAPE</th>\n",
       "    </tr>\n",
       "  </thead>\n",
       "  <tbody>\n",
       "    <tr>\n",
       "      <th id=\"T_a92ab_level0_row0\" class=\"row_heading level0 row0\" >0</th>\n",
       "      <td id=\"T_a92ab_row0_col0\" class=\"data row0 col0\" >Huber Regressor</td>\n",
       "      <td id=\"T_a92ab_row0_col1\" class=\"data row0 col1\" >0.1778</td>\n",
       "      <td id=\"T_a92ab_row0_col2\" class=\"data row0 col2\" >0.1778</td>\n",
       "      <td id=\"T_a92ab_row0_col3\" class=\"data row0 col3\" >0.4216</td>\n",
       "      <td id=\"T_a92ab_row0_col4\" class=\"data row0 col4\" >-0.2162</td>\n",
       "      <td id=\"T_a92ab_row0_col5\" class=\"data row0 col5\" >0.2923</td>\n",
       "      <td id=\"T_a92ab_row0_col6\" class=\"data row0 col6\" >1.0000</td>\n",
       "    </tr>\n",
       "  </tbody>\n",
       "</table>\n"
      ],
      "text/plain": [
       "<pandas.io.formats.style.Styler at 0x20f702d4f90>"
      ]
     },
     "metadata": {},
     "output_type": "display_data"
    },
    {
     "name": "stdout",
     "output_type": "stream",
     "text": [
      "     edad  ingresos_mensuales estado_civil  historia_credito  \\\n",
      "72     35                6757      Soltero                 3   \n",
      "112    43                3911      Soltero                 3   \n",
      "132    29                6883       Casado                 3   \n",
      "88     27                5389       Casado                 3   \n",
      "37     27                5744       Casado                 2   \n",
      "\n",
      "     nro_creditos_previos  cuota_vs_ingreso  vehiculo_propio  default  \\\n",
      "72                      4              0.11                0        0   \n",
      "112                     2              0.59                0        0   \n",
      "132                     0              0.42                0        0   \n",
      "88                      4              0.27                1        0   \n",
      "37                      0              0.38                1        1   \n",
      "\n",
      "     prediction_label  \n",
      "72      -1.377545e-09  \n",
      "112      1.710554e-09  \n",
      "132      5.893928e-09  \n",
      "88       5.763563e-09  \n",
      "37       8.807841e-09  \n"
     ]
    }
   ],
   "source": [
    "#predicción:\n",
    "preds= predict_model(tuned_huber)\n",
    "print(preds.head())"
   ]
  },
  {
   "cell_type": "code",
   "execution_count": null,
   "id": "ec895c4e",
   "metadata": {},
   "outputs": [],
   "source": [
    "#1. En promedio, el modelo se equivoca en un 5.76% del precio real\n",
    "#2. El modelo explica el 97.43% de la varianza del precio\n",
    "#3. Error logaritmico (0.0807) es bajo; buen performance en escalas grandes.\n",
    "\n",
    "#Conclusión: El modelo tiene muy buen ajuste global. Es explicativo (R2 alto) y preciso (MAPE pequeño)"
   ]
  }
 ],
 "metadata": {
  "kernelspec": {
   "display_name": "Python 3",
   "language": "python",
   "name": "python3"
  },
  "language_info": {
   "codemirror_mode": {
    "name": "ipython",
    "version": 3
   },
   "file_extension": ".py",
   "mimetype": "text/x-python",
   "name": "python",
   "nbconvert_exporter": "python",
   "pygments_lexer": "ipython3",
   "version": "3.11.12"
  }
 },
 "nbformat": 4,
 "nbformat_minor": 5
}
